{
 "cells": [
  {
   "cell_type": "code",
   "execution_count": 1,
   "metadata": {},
   "outputs": [
    {
     "name": "stdout",
     "output_type": "stream",
     "text": [
      "Enter your score:50\n",
      "Your score is 50\n"
     ]
    }
   ],
   "source": [
    "score=eval(input('Enter your score:'))\n",
    "if score>=60:\n",
    "   score+=10\n",
    "print('Your score is %d'%(score))"
   ]
  },
  {
   "cell_type": "code",
   "execution_count": 2,
   "metadata": {},
   "outputs": [
    {
     "name": "stdout",
     "output_type": "stream",
     "text": [
      "Enter your score:50\n",
      "Your score is 58\n"
     ]
    }
   ],
   "source": [
    "score=eval(input('Enter your score:'))\n",
    "if score>=60:\n",
    "    score+=10\n",
    "else:\n",
    "    score+=8\n",
    "print('Your score is %d'%(score))"
   ]
  },
  {
   "cell_type": "code",
   "execution_count": 3,
   "metadata": {},
   "outputs": [
    {
     "name": "stdout",
     "output_type": "stream",
     "text": [
      "Enter temperature today:27\n",
      "comfortable\n",
      "Over\n"
     ]
    }
   ],
   "source": [
    "temperature=eval(input('Enter temperature today:'))\n",
    "if temperature>=28:\n",
    "    print('hot')\n",
    "else:\n",
    "    print('comfortable')\n",
    "print('Over')"
   ]
  },
  {
   "cell_type": "code",
   "execution_count": 4,
   "metadata": {},
   "outputs": [
    {
     "name": "stdout",
     "output_type": "stream",
     "text": [
      "Enter temperature today:20\n",
      "cold\n",
      "Over\n"
     ]
    }
   ],
   "source": [
    "temperature=eval(input('Enter temperature today:'))\n",
    "if temperature>=28:\n",
    "    print('hot')\n",
    "elif temperature>=22:\n",
    "    print('comfortable')\n",
    "else:\n",
    "    print('cold')\n",
    "print(\"Over\")"
   ]
  },
  {
   "cell_type": "code",
   "execution_count": 5,
   "metadata": {},
   "outputs": [
    {
     "name": "stdout",
     "output_type": "stream",
     "text": [
      "Enter temperature today:21\n",
      "Enter humility today:42\n",
      "Cold\n",
      "Over\n"
     ]
    }
   ],
   "source": [
    "temperature=eval(input('Enter temperature today:'))\n",
    "humility=eval(input('Enter humility today:'))\n",
    "if temperature>=28:\n",
    "    print('Hot')\n",
    "elif temperature>=22 and humility>=40 and humility <=50:\n",
    "    print('Comfortable')\n",
    "else:\n",
    "    print('Cold')\n",
    "print('Over')"
   ]
  },
  {
   "cell_type": "code",
   "execution_count": 6,
   "metadata": {},
   "outputs": [
    {
     "name": "stdout",
     "output_type": "stream",
     "text": [
      "Enter a character:50\n",
      "50 is other character\n"
     ]
    }
   ],
   "source": [
    "char=input('Enter a character:')\n",
    "if char >='a'and char <='z':\n",
    "    print('%c is lowercase character'%(char))\n",
    "elif char >='A'and char<='Z':\n",
    "    print('%c is uppercase character'%(char))\n",
    "else:\n",
    "    print('%s is other character'%(char))"
   ]
  },
  {
   "cell_type": "code",
   "execution_count": 7,
   "metadata": {},
   "outputs": [
    {
     "name": "stdout",
     "output_type": "stream",
     "text": [
      "Enter a number:20\n",
      "20is even number.\n",
      "Over\n"
     ]
    }
   ],
   "source": [
    "num=eval(input('Enter a number:'))\n",
    "if num %2==0:\n",
    "    print('%d'%(num),end='')\n",
    "    print('is even number.')\n",
    "else:\n",
    "    print('%d'%(num),end='')\n",
    "    print('is odd number.')\n",
    "print('Over')"
   ]
  },
  {
   "cell_type": "code",
   "execution_count": null,
   "metadata": {},
   "outputs": [],
   "source": []
  }
 ],
 "metadata": {
  "kernelspec": {
   "display_name": "Python 3",
   "language": "python",
   "name": "python3"
  },
  "language_info": {
   "codemirror_mode": {
    "name": "ipython",
    "version": 3
   },
   "file_extension": ".py",
   "mimetype": "text/x-python",
   "name": "python",
   "nbconvert_exporter": "python",
   "pygments_lexer": "ipython3",
   "version": "3.8.3"
  }
 },
 "nbformat": 4,
 "nbformat_minor": 4
}
