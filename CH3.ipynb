{
 "cells": [
  {
   "cell_type": "code",
   "execution_count": 1,
   "metadata": {},
   "outputs": [
    {
     "name": "stdout",
     "output_type": "stream",
     "text": [
      "enter height: 23.5\n",
      "enter weight:19\n",
      "446.5\n",
      "85.0\n"
     ]
    }
   ],
   "source": [
    "a=eval(input(\"enter height: \"))\n",
    "b=eval(input(\"enter weight:\"))\n",
    "c=a*b\n",
    "d=(a+b)*2\n",
    "print(c)\n",
    "print(d)"
   ]
  },
  {
   "cell_type": "code",
   "execution_count": 2,
   "metadata": {},
   "outputs": [
    {
     "name": "stdout",
     "output_type": "stream",
     "text": [
      "enter s:3\n",
      "2.598076211353316\n",
      "3.897114317029974\n"
     ]
    }
   ],
   "source": [
    "s=eval(input(\"enter s:\"))\n",
    "b=(3**(1/2)*1/2)*s\n",
    "c=(3**(1/2)*1/4)*s*s\n",
    "print(b)\n",
    "print(c)"
   ]
  },
  {
   "cell_type": "code",
   "execution_count": 3,
   "metadata": {},
   "outputs": [
    {
     "name": "stdout",
     "output_type": "stream",
     "text": [
      "enter min:10\n",
      "enter sec:25\n",
      "enter km:3\n",
      "s: 10.8\n"
     ]
    }
   ],
   "source": [
    "x=eval(input(\"enter min:\"))\n",
    "y=eval(input(\"enter sec:\"))\n",
    "z=eval(input(\"enter km:\"))\n",
    "s=(z/1.6)/((60*x+y)/3600)\n",
    "print(\"s:\",s)"
   ]
  },
  {
   "cell_type": "code",
   "execution_count": 4,
   "metadata": {},
   "outputs": [
    {
     "name": "stdout",
     "output_type": "stream",
     "text": [
      "enter mile1\n",
      "1.6\n"
     ]
    }
   ],
   "source": [
    "x=eval(input(\"enter mile\"))\n",
    "y=1.6/x\n",
    "print(y)"
   ]
  },
  {
   "cell_type": "code",
   "execution_count": 5,
   "metadata": {},
   "outputs": [
    {
     "name": "stdout",
     "output_type": "stream",
     "text": [
      "enter f:20\n",
      "-6.666666666666667\n"
     ]
    }
   ],
   "source": [
    "x=eval(input(\"enter f:\"))\n",
    "y=(x-32)*5/9\n",
    "print(y)"
   ]
  },
  {
   "cell_type": "code",
   "execution_count": 7,
   "metadata": {},
   "outputs": [
    {
     "name": "stdout",
     "output_type": "stream",
     "text": [
      "x:3\n",
      "y:3\n",
      "z:3\n",
      "9 3.0\n"
     ]
    }
   ],
   "source": [
    "x=eval(input(\"x:\"))\n",
    "y=eval(input(\"y:\"))\n",
    "z=eval(input(\"z:\"))\n",
    "a=x+y+z\n",
    "b=(x+y+z)/3\n",
    "print(a,b)"
   ]
  },
  {
   "cell_type": "code",
   "execution_count": 11,
   "metadata": {},
   "outputs": [
    {
     "name": "stdout",
     "output_type": "stream",
     "text": [
      "姓名:a\n",
      "學號:a\n",
      "地址:a\n"
     ]
    }
   ],
   "source": [
    "x=input(\"姓名:\")\n",
    "y=input(\"學號:\")\n",
    "z=input(\"地址:\")"
   ]
  },
  {
   "cell_type": "code",
   "execution_count": 12,
   "metadata": {},
   "outputs": [
    {
     "name": "stdout",
     "output_type": "stream",
     "text": [
      "半徑1\n",
      "1 6.28\n"
     ]
    }
   ],
   "source": [
    "x=eval(input(\"半徑\"))\n",
    "y=(x**2)*3.14\n",
    "z=2*3.14*x\n",
    "print(x,z)"
   ]
  },
  {
   "cell_type": "code",
   "execution_count": 13,
   "metadata": {},
   "outputs": [
    {
     "name": "stdout",
     "output_type": "stream",
     "text": [
      "x:2\n",
      "y:3\n",
      "6\n",
      "18.0\n"
     ]
    }
   ],
   "source": [
    "x=eval(input(\"x:\"))\n",
    "y=eval(input(\"y:\"))\n",
    "a=x*y\n",
    "b=(2*a)+(2*b)\n",
    "print(a)\n",
    "print(b)"
   ]
  },
  {
   "cell_type": "code",
   "execution_count": 22,
   "metadata": {},
   "outputs": [
    {
     "name": "stdout",
     "output_type": "stream",
     "text": [
      "x:2\n",
      "y:2\n"
     ]
    },
    {
     "data": {
      "text/plain": [
       "160.7"
      ]
     },
     "execution_count": 22,
     "metadata": {},
     "output_type": "execute_result"
    }
   ],
   "source": [
    "x=eval(input(\"x:\"))\n",
    "y=eval(input(\"y:\"))\n",
    "(3+4*x)/5-(10*(y-5)*(x+y+5))/x+(9*(4/x)+(9+x)/y)\n"
   ]
  },
  {
   "cell_type": "code",
   "execution_count": 23,
   "metadata": {},
   "outputs": [
    {
     "ename": "SyntaxError",
     "evalue": "invalid syntax (<ipython-input-23-f9ade0eaea93>, line 4)",
     "output_type": "error",
     "traceback": [
      "\u001b[1;36m  File \u001b[1;32m\"<ipython-input-23-f9ade0eaea93>\"\u001b[1;36m, line \u001b[1;32m4\u001b[0m\n\u001b[1;33m    4/3*(a+34)-9*(a+b*c)+3+3*(2+a)/(a+3b)\u001b[0m\n\u001b[1;37m                                       ^\u001b[0m\n\u001b[1;31mSyntaxError\u001b[0m\u001b[1;31m:\u001b[0m invalid syntax\n"
     ]
    }
   ],
   "source": [
    "a=eval(input(\"a\"))\n",
    "b=eval(input(\"b\"))\n",
    "c=eval(input(\"c\"))\n",
    "4/3*(a+34)-9*(a+b*c)+3+3*(2+a)/(a+3b)"
   ]
  },
  {
   "cell_type": "code",
   "execution_count": null,
   "metadata": {},
   "outputs": [],
   "source": []
  }
 ],
 "metadata": {
  "kernelspec": {
   "display_name": "Python 3",
   "language": "python",
   "name": "python3"
  },
  "language_info": {
   "codemirror_mode": {
    "name": "ipython",
    "version": 3
   },
   "file_extension": ".py",
   "mimetype": "text/x-python",
   "name": "python",
   "nbconvert_exporter": "python",
   "pygments_lexer": "ipython3",
   "version": "3.7.3"
  }
 },
 "nbformat": 4,
 "nbformat_minor": 2
}
